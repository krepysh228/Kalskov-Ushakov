{
  "nbformat": 4,
  "nbformat_minor": 0,
  "metadata": {
    "colab": {
      "provenance": [],
      "authorship_tag": "ABX9TyMVZbw1SLiNSUFm/KkcW/DL",
      "include_colab_link": true
    },
    "kernelspec": {
      "name": "python3",
      "display_name": "Python 3"
    },
    "language_info": {
      "name": "python"
    }
  },
  "cells": [
    {
      "cell_type": "markdown",
      "metadata": {
        "id": "view-in-github",
        "colab_type": "text"
      },
      "source": [
        "<a href=\"https://colab.research.google.com/github/krepysh228/Kalskov-Ushakov/blob/main/U123.ipynb\" target=\"_parent\"><img src=\"https://colab.research.google.com/assets/colab-badge.svg\" alt=\"Open In Colab\"/></a>"
      ]
    },
    {
      "cell_type": "code",
      "execution_count": null,
      "metadata": {
        "id": "WStJGuSUjiYz"
      },
      "outputs": [],
      "source": []
    },
    {
      "cell_type": "code",
      "source": [
        "def check_column(arr):\n",
        "    for elem in arr:\n",
        "        if elem % 5 != 0 and elem % 7 != 0:\n",
        "            return False\n",
        "    return True\n",
        "\n",
        "A = [[10, 35, 21, 50], [14, 28, 776, 63], [5, 35, 70, 30], [20, 42, 70, 25]]\n",
        "B = [[11, 22, 33, 44], [55, 66, 77, 88], [10, 20, 30, 40], [70, 14, 21, 35]]\n",
        "\n",
        "has_valid_column_a = False\n",
        "for i in range(len(A[0])):\n",
        "    column = [row[i] for row in A]\n",
        "    if check_column(column):\n",
        "        print(\"A: Column\", i, \"contains only multiples of 5 or 7\")\n",
        "        has_valid_column_a = True\n",
        "\n",
        "if not has_valid_column_a:\n",
        "    print(\"A: There are no columns containing only multiples of 5 or 7\")\n",
        "\n",
        "has_valid_column_b = False\n",
        "for i in range(len(B[0])):\n",
        "    column = [row[i] for row in B]\n",
        "    if check_column(column):\n",
        "        print(\"B: Column\", i, \"contains only multiples of 5 or 7\")\n",
        "        has_valid_column_b = True\n",
        "\n",
        "if not has_valid_column_b:\n",
        "    print(\"B: There are no columns containing only multiples of 5 or 7\")\n"
      ],
      "metadata": {
        "colab": {
          "base_uri": "https://localhost:8080/"
        },
        "id": "OXxRAz_ljtMJ",
        "outputId": "860c0f90-ceb2-4898-a009-248440321c3b"
      },
      "execution_count": 2,
      "outputs": [
        {
          "output_type": "stream",
          "name": "stdout",
          "text": [
            "A: Column 0 contains only multiples of 5 or 7\n",
            "A: Column 1 contains only multiples of 5 or 7\n",
            "A: Column 3 contains only multiples of 5 or 7\n",
            "B: There are no columns containing only multiples of 5 or 7\n"
          ]
        }
      ]
    }
  ]
}